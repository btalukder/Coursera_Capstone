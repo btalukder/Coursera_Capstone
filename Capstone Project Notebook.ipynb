{
    "cells": [
        {
            "metadata": {},
            "cell_type": "markdown",
            "source": "This Jupyter notebook will be used to carry out Capstone project for IBM data science professional certification.\n\nPart-1: Scrap Wikipedia page to get Toronto postal code data and transform them into pandas dataframe\n"
        },
        {
            "metadata": {},
            "cell_type": "code",
            "source": "import pandas as pd\nimport numpy as np",
            "execution_count": 3,
            "outputs": []
        },
        {
            "metadata": {},
            "cell_type": "code",
            "source": "print ('Scrapping and getting Toronto postal code data')",
            "execution_count": 1,
            "outputs": [
                {
                    "output_type": "stream",
                    "text": "Scrapping and getting Toronto postal code data\n",
                    "name": "stdout"
                }
            ]
        },
        {
            "metadata": {},
            "cell_type": "code",
            "source": "url = 'https://en.wikipedia.org/wiki/List_of_postal_codes_of_Canada:_M'\n#This returns list of DataFrames \ndf_list = pd.read_html(url)\n#Total number of tables found\nlen(df_list)",
            "execution_count": 4,
            "outputs": [
                {
                    "output_type": "execute_result",
                    "execution_count": 4,
                    "data": {
                        "text/plain": "3"
                    },
                    "metadata": {}
                }
            ]
        },
        {
            "metadata": {},
            "cell_type": "code",
            "source": "#To access the Toronto postal code table, simply access that corresponding element of the list.\nfrom pandas import DataFrame\ndf_toronto=df_list[0]\ndf_toronto",
            "execution_count": 12,
            "outputs": [
                {
                    "output_type": "execute_result",
                    "execution_count": 12,
                    "data": {
                        "text/plain": "    Postal Code           Borough  \\\n0           M1A      Not assigned   \n1           M2A      Not assigned   \n2           M3A        North York   \n3           M4A        North York   \n4           M5A  Downtown Toronto   \n..          ...               ...   \n175         M5Z      Not assigned   \n176         M6Z      Not assigned   \n177         M7Z      Not assigned   \n178         M8Z         Etobicoke   \n179         M9Z      Not assigned   \n\n                                         Neighbourhood  \n0                                         Not assigned  \n1                                         Not assigned  \n2                                            Parkwoods  \n3                                     Victoria Village  \n4                            Regent Park, Harbourfront  \n..                                                 ...  \n175                                       Not assigned  \n176                                       Not assigned  \n177                                       Not assigned  \n178  Mimico NW, The Queensway West, South of Bloor,...  \n179                                       Not assigned  \n\n[180 rows x 3 columns]",
                        "text/html": "<div>\n<style scoped>\n    .dataframe tbody tr th:only-of-type {\n        vertical-align: middle;\n    }\n\n    .dataframe tbody tr th {\n        vertical-align: top;\n    }\n\n    .dataframe thead th {\n        text-align: right;\n    }\n</style>\n<table border=\"1\" class=\"dataframe\">\n  <thead>\n    <tr style=\"text-align: right;\">\n      <th></th>\n      <th>Postal Code</th>\n      <th>Borough</th>\n      <th>Neighbourhood</th>\n    </tr>\n  </thead>\n  <tbody>\n    <tr>\n      <th>0</th>\n      <td>M1A</td>\n      <td>Not assigned</td>\n      <td>Not assigned</td>\n    </tr>\n    <tr>\n      <th>1</th>\n      <td>M2A</td>\n      <td>Not assigned</td>\n      <td>Not assigned</td>\n    </tr>\n    <tr>\n      <th>2</th>\n      <td>M3A</td>\n      <td>North York</td>\n      <td>Parkwoods</td>\n    </tr>\n    <tr>\n      <th>3</th>\n      <td>M4A</td>\n      <td>North York</td>\n      <td>Victoria Village</td>\n    </tr>\n    <tr>\n      <th>4</th>\n      <td>M5A</td>\n      <td>Downtown Toronto</td>\n      <td>Regent Park, Harbourfront</td>\n    </tr>\n    <tr>\n      <th>...</th>\n      <td>...</td>\n      <td>...</td>\n      <td>...</td>\n    </tr>\n    <tr>\n      <th>175</th>\n      <td>M5Z</td>\n      <td>Not assigned</td>\n      <td>Not assigned</td>\n    </tr>\n    <tr>\n      <th>176</th>\n      <td>M6Z</td>\n      <td>Not assigned</td>\n      <td>Not assigned</td>\n    </tr>\n    <tr>\n      <th>177</th>\n      <td>M7Z</td>\n      <td>Not assigned</td>\n      <td>Not assigned</td>\n    </tr>\n    <tr>\n      <th>178</th>\n      <td>M8Z</td>\n      <td>Etobicoke</td>\n      <td>Mimico NW, The Queensway West, South of Bloor,...</td>\n    </tr>\n    <tr>\n      <th>179</th>\n      <td>M9Z</td>\n      <td>Not assigned</td>\n      <td>Not assigned</td>\n    </tr>\n  </tbody>\n</table>\n<p>180 rows \u00d7 3 columns</p>\n</div>"
                    },
                    "metadata": {}
                }
            ]
        },
        {
            "metadata": {},
            "cell_type": "code",
            "source": "#Remove all the rows from the dataframe where Borough is 'Not Assigned'\n\ndf_toronto.drop(df_toronto[df_toronto.Borough=='Not assigned'].index, inplace=True)\n",
            "execution_count": 14,
            "outputs": []
        },
        {
            "metadata": {},
            "cell_type": "code",
            "source": "",
            "execution_count": null,
            "outputs": []
        },
        {
            "metadata": {},
            "cell_type": "markdown",
            "source": "Update the DataFrame - For Neighbourhood with 'Not Assigned' update is made to assign the Borrough name as Neighbourhood name\n"
        },
        {
            "metadata": {},
            "cell_type": "code",
            "source": "#Replace all 'Not Assigned' neighbourhood with the corresponding borrough name\n#Use Numpy library to crry out the replacement\ndf_toronto['Neighbourhood']=np.where(df_toronto['Neighbourhood']=='Not assigned', df_toronto['Borough'], df_toronto['Neighbourhood'])\ndf_toronto    \n",
            "execution_count": 29,
            "outputs": [
                {
                    "output_type": "execute_result",
                    "execution_count": 29,
                    "data": {
                        "text/plain": "    Postal Code           Borough  \\\n2           M3A        North York   \n3           M4A        North York   \n4           M5A  Downtown Toronto   \n5           M6A        North York   \n6           M7A  Downtown Toronto   \n..          ...               ...   \n160         M8X         Etobicoke   \n165         M4Y  Downtown Toronto   \n168         M7Y      East Toronto   \n169         M8Y         Etobicoke   \n178         M8Z         Etobicoke   \n\n                                         Neighbourhood  \n2                                            Parkwoods  \n3                                     Victoria Village  \n4                            Regent Park, Harbourfront  \n5                     Lawrence Manor, Lawrence Heights  \n6          Queen's Park, Ontario Provincial Government  \n..                                                 ...  \n160      The Kingsway, Montgomery Road, Old Mill North  \n165                               Church and Wellesley  \n168  Business reply mail Processing Centre, South C...  \n169  Old Mill South, King's Mill Park, Sunnylea, Hu...  \n178  Mimico NW, The Queensway West, South of Bloor,...  \n\n[103 rows x 3 columns]",
                        "text/html": "<div>\n<style scoped>\n    .dataframe tbody tr th:only-of-type {\n        vertical-align: middle;\n    }\n\n    .dataframe tbody tr th {\n        vertical-align: top;\n    }\n\n    .dataframe thead th {\n        text-align: right;\n    }\n</style>\n<table border=\"1\" class=\"dataframe\">\n  <thead>\n    <tr style=\"text-align: right;\">\n      <th></th>\n      <th>Postal Code</th>\n      <th>Borough</th>\n      <th>Neighbourhood</th>\n    </tr>\n  </thead>\n  <tbody>\n    <tr>\n      <th>2</th>\n      <td>M3A</td>\n      <td>North York</td>\n      <td>Parkwoods</td>\n    </tr>\n    <tr>\n      <th>3</th>\n      <td>M4A</td>\n      <td>North York</td>\n      <td>Victoria Village</td>\n    </tr>\n    <tr>\n      <th>4</th>\n      <td>M5A</td>\n      <td>Downtown Toronto</td>\n      <td>Regent Park, Harbourfront</td>\n    </tr>\n    <tr>\n      <th>5</th>\n      <td>M6A</td>\n      <td>North York</td>\n      <td>Lawrence Manor, Lawrence Heights</td>\n    </tr>\n    <tr>\n      <th>6</th>\n      <td>M7A</td>\n      <td>Downtown Toronto</td>\n      <td>Queen's Park, Ontario Provincial Government</td>\n    </tr>\n    <tr>\n      <th>...</th>\n      <td>...</td>\n      <td>...</td>\n      <td>...</td>\n    </tr>\n    <tr>\n      <th>160</th>\n      <td>M8X</td>\n      <td>Etobicoke</td>\n      <td>The Kingsway, Montgomery Road, Old Mill North</td>\n    </tr>\n    <tr>\n      <th>165</th>\n      <td>M4Y</td>\n      <td>Downtown Toronto</td>\n      <td>Church and Wellesley</td>\n    </tr>\n    <tr>\n      <th>168</th>\n      <td>M7Y</td>\n      <td>East Toronto</td>\n      <td>Business reply mail Processing Centre, South C...</td>\n    </tr>\n    <tr>\n      <th>169</th>\n      <td>M8Y</td>\n      <td>Etobicoke</td>\n      <td>Old Mill South, King's Mill Park, Sunnylea, Hu...</td>\n    </tr>\n    <tr>\n      <th>178</th>\n      <td>M8Z</td>\n      <td>Etobicoke</td>\n      <td>Mimico NW, The Queensway West, South of Bloor,...</td>\n    </tr>\n  </tbody>\n</table>\n<p>103 rows \u00d7 3 columns</p>\n</div>"
                    },
                    "metadata": {}
                }
            ]
        },
        {
            "metadata": {},
            "cell_type": "code",
            "source": "#Print Number of rows of the final dataframe\ndf_toronto.shape",
            "execution_count": 20,
            "outputs": [
                {
                    "output_type": "execute_result",
                    "execution_count": 20,
                    "data": {
                        "text/plain": "(103, 3)"
                    },
                    "metadata": {}
                }
            ]
        },
        {
            "metadata": {},
            "cell_type": "markdown",
            "source": "**********************This is the end of Part-1 of the assignment******************************"
        },
        {
            "metadata": {},
            "cell_type": "markdown",
            "source": "Part-2: Retrieving geographical co-ordinates of the relevant 103 postal codes available in the df_toronto dataframe and add latitude and longitude column in the dataframe"
        },
        {
            "metadata": {},
            "cell_type": "markdown",
            "source": "Here I have used the CSV file in the location http://cocl.us/Geospatial_data to get the matching co-ordinates for relevant Postal codes"
        },
        {
            "metadata": {},
            "cell_type": "code",
            "source": "#Read the CSV file into a dataframe\n!wget -O Geospatial_Coordinates.csv http://cocl.us/Geospatial_data/Geospatial_Coordinates.csv\n\ncoordinate_df = pd.read_csv(\"Geospatial_Coordinates.csv\")",
            "execution_count": 22,
            "outputs": [
                {
                    "output_type": "stream",
                    "text": "--2021-01-28 02:09:51--  http://cocl.us/Geospatial_data/Geospatial_Coordinates.csv\nResolving cocl.us (cocl.us)... 169.63.96.176, 169.63.96.194\nConnecting to cocl.us (cocl.us)|169.63.96.176|:80... connected.\nHTTP request sent, awaiting response... 301 Moved Permanently\nLocation: https://cocl.us/Geospatial_data/Geospatial_Coordinates.csv [following]\n--2021-01-28 02:09:51--  https://cocl.us/Geospatial_data/Geospatial_Coordinates.csv\nConnecting to cocl.us (cocl.us)|169.63.96.176|:443... connected.\nHTTP request sent, awaiting response... 301 Moved Permanently\nLocation: https://ibm.box.com/shared/static/9afzr83pps4pwf2smjjcf1y5mvgb18rr.csv [following]\n--2021-01-28 02:09:52--  https://ibm.box.com/shared/static/9afzr83pps4pwf2smjjcf1y5mvgb18rr.csv\nResolving ibm.box.com (ibm.box.com)... 185.235.236.197\nConnecting to ibm.box.com (ibm.box.com)|185.235.236.197|:443... connected.\nHTTP request sent, awaiting response... 301 Moved Permanently\nLocation: /public/static/9afzr83pps4pwf2smjjcf1y5mvgb18rr.csv [following]\n--2021-01-28 02:09:52--  https://ibm.box.com/public/static/9afzr83pps4pwf2smjjcf1y5mvgb18rr.csv\nReusing existing connection to ibm.box.com:443.\nHTTP request sent, awaiting response... 301 Moved Permanently\nLocation: https://ibm.ent.box.com/public/static/9afzr83pps4pwf2smjjcf1y5mvgb18rr.csv [following]\n--2021-01-28 02:09:53--  https://ibm.ent.box.com/public/static/9afzr83pps4pwf2smjjcf1y5mvgb18rr.csv\nResolving ibm.ent.box.com (ibm.ent.box.com)... 107.152.29.201\nConnecting to ibm.ent.box.com (ibm.ent.box.com)|107.152.29.201|:443... connected.\nHTTP request sent, awaiting response... 302 Found\nLocation: https://public.boxcloud.com/d/1/b1!NTwU18X_M8ri0MkGYx3VVIQZ0mBBXv04PHqYqNzPBzBXIP355Z3dSmqgMWxG9pUKtLnMXCyIQU4HxXpqAR6QNndkYCruxAR7DoMqdp6Zwq16oQmCb8rc6utKr4t1BMMTfOj3PtwHo3CM44JTuI-dCRiwWa22FcYZHZ45G6GhOyaK7fPJqv2kOh008xYKgmz1twWdkIJjgcggWjCG31xg2P5bd1TmtgkgZ7g3LIyizWYWa1E5dYFqMdY1pzp2dazQ2DdBjB4n_nI_oHa4bee2i6wwQSmoUgNrp3sA1J1JAwEZlXMkG99-2NSNYTS4Q8pw5SrKUZGHkTk_ytR3RR3uu8C_bpi1CH-fbJyY2ngS5BXCG2ABIaof4vijIe3KJDKi1gveeRsANYrTYuEOE-wMbOn0YkmHfY9YfZ4KmR3aviGVwkTHyc-_hEyiX28cq9J-5ZOM_ZnHOHWr2RgW7xr_gS8bF6aXS2UF3movhMaUlMFSShznr2gxzVzKOk1__rQgoil8zHlVZ5zViHEsLfDLNJi9AaVWsHjl1GjHFOsnhuDGDxAAfaoRJLGgdlbKeGbO0dVnm4YeVbpt-ShvZ2RTDTA9347KbwTM_NZN48Ta8I_2qf5J9l-D0iXgTktidYFL5dOGTlx_N65dJhpJs2ZlJZTLX8sNVkcsGrZtAyQZ_AlfQC4G6-14NcY-NufSQqPJh5Cp0-CDH-RZWZehtMVRUIeL4mWPvqhI0JYjGHQmiFjWRLDBmBtKO3E_B7OG9SbMsnbaj3OAECP3jJkgWf1gSMDaYUDc5w5jyh33QAog9t9OHcRWVXS1mqSesKoBMVh94_F4MhcuLOhsLi51a25kiwNLE0cjKHQFLoEhaYv1FHvoXf5oc3BYBaKcgBI1hjQ3OC354R4pwmSEwFcc4sdjbxWXvv-_kh3w8Tatz_-QDtt5kcbo1RHkYguBaWQQPcMH_MtJ4fVcyqUThFrcCpAk3I5VTFSIk24LQ5bdPZ1LyzFbwVrxmv-SbCs7A4_GFdCQo6AbY2s7fgRF-QFfpvpcTKigGcjMe66BjrvGIM7NwmYcsIFReoCIizMkShvrwGXV2afoYQySw365ELI09mEdHjpe1G4bVMkeGhbSnjgfcVNTpi9-p2Phk2O2aDJIpJzA6qMlLVqRQLVZycJXoBsIl7iOMdEc9mQg4WEuBaNOFBmiYTSB_uajYgHdVs8-UZW6px_DQcTtzVe7592DQ3Q7m0Zs2a2lUM_UnUViz-4KbD151XVPFj2_eTzHH74peULnpyyAw9q63uWt0l4fhOGAridk0DB3pIR4Nt0FM0kU5WZm4LTDir_sxE4w3HcvYBBjIuTb_Y3CDEy0qmsdvghkJwPDT29oAsDUGSOEXVjPdk8OHZw4-kx6W-BPOQBlrqAGl7e1EUrmvhI5eNQKOFGOc9eGtolG-mvsS1Fjs66z2JUZ1dGZcEDkegBVRYWSBoIQLCFcuX06vgeBL1Bn/download [following]\n--2021-01-28 02:09:54--  https://public.boxcloud.com/d/1/b1!NTwU18X_M8ri0MkGYx3VVIQZ0mBBXv04PHqYqNzPBzBXIP355Z3dSmqgMWxG9pUKtLnMXCyIQU4HxXpqAR6QNndkYCruxAR7DoMqdp6Zwq16oQmCb8rc6utKr4t1BMMTfOj3PtwHo3CM44JTuI-dCRiwWa22FcYZHZ45G6GhOyaK7fPJqv2kOh008xYKgmz1twWdkIJjgcggWjCG31xg2P5bd1TmtgkgZ7g3LIyizWYWa1E5dYFqMdY1pzp2dazQ2DdBjB4n_nI_oHa4bee2i6wwQSmoUgNrp3sA1J1JAwEZlXMkG99-2NSNYTS4Q8pw5SrKUZGHkTk_ytR3RR3uu8C_bpi1CH-fbJyY2ngS5BXCG2ABIaof4vijIe3KJDKi1gveeRsANYrTYuEOE-wMbOn0YkmHfY9YfZ4KmR3aviGVwkTHyc-_hEyiX28cq9J-5ZOM_ZnHOHWr2RgW7xr_gS8bF6aXS2UF3movhMaUlMFSShznr2gxzVzKOk1__rQgoil8zHlVZ5zViHEsLfDLNJi9AaVWsHjl1GjHFOsnhuDGDxAAfaoRJLGgdlbKeGbO0dVnm4YeVbpt-ShvZ2RTDTA9347KbwTM_NZN48Ta8I_2qf5J9l-D0iXgTktidYFL5dOGTlx_N65dJhpJs2ZlJZTLX8sNVkcsGrZtAyQZ_AlfQC4G6-14NcY-NufSQqPJh5Cp0-CDH-RZWZehtMVRUIeL4mWPvqhI0JYjGHQmiFjWRLDBmBtKO3E_B7OG9SbMsnbaj3OAECP3jJkgWf1gSMDaYUDc5w5jyh33QAog9t9OHcRWVXS1mqSesKoBMVh94_F4MhcuLOhsLi51a25kiwNLE0cjKHQFLoEhaYv1FHvoXf5oc3BYBaKcgBI1hjQ3OC354R4pwmSEwFcc4sdjbxWXvv-_kh3w8Tatz_-QDtt5kcbo1RHkYguBaWQQPcMH_MtJ4fVcyqUThFrcCpAk3I5VTFSIk24LQ5bdPZ1LyzFbwVrxmv-SbCs7A4_GFdCQo6AbY2s7fgRF-QFfpvpcTKigGcjMe66BjrvGIM7NwmYcsIFReoCIizMkShvrwGXV2afoYQySw365ELI09mEdHjpe1G4bVMkeGhbSnjgfcVNTpi9-p2Phk2O2aDJIpJzA6qMlLVqRQLVZycJXoBsIl7iOMdEc9mQg4WEuBaNOFBmiYTSB_uajYgHdVs8-UZW6px_DQcTtzVe7592DQ3Q7m0Zs2a2lUM_UnUViz-4KbD151XVPFj2_eTzHH74peULnpyyAw9q63uWt0l4fhOGAridk0DB3pIR4Nt0FM0kU5WZm4LTDir_sxE4w3HcvYBBjIuTb_Y3CDEy0qmsdvghkJwPDT29oAsDUGSOEXVjPdk8OHZw4-kx6W-BPOQBlrqAGl7e1EUrmvhI5eNQKOFGOc9eGtolG-mvsS1Fjs66z2JUZ1dGZcEDkegBVRYWSBoIQLCFcuX06vgeBL1Bn/download\nResolving public.boxcloud.com (public.boxcloud.com)... 185.235.236.200\nConnecting to public.boxcloud.com (public.boxcloud.com)|185.235.236.200|:443... connected.\nHTTP request sent, awaiting response... 200 OK\nLength: 2891 (2.8K) [text/csv]\nSaving to: \u2018Geospatial_Coordinates.csv\u2019\n\nGeospatial_Coordina 100%[===================>]   2.82K  --.-KB/s    in 0s      \n\n2021-01-28 02:09:54 (53.5 MB/s) - \u2018Geospatial_Coordinates.csv\u2019 saved [2891/2891]\n\n",
                    "name": "stdout"
                }
            ]
        },
        {
            "metadata": {},
            "cell_type": "code",
            "source": "coordinate_df",
            "execution_count": 23,
            "outputs": [
                {
                    "output_type": "execute_result",
                    "execution_count": 23,
                    "data": {
                        "text/plain": "    Postal Code   Latitude  Longitude\n0           M1B  43.806686 -79.194353\n1           M1C  43.784535 -79.160497\n2           M1E  43.763573 -79.188711\n3           M1G  43.770992 -79.216917\n4           M1H  43.773136 -79.239476\n..          ...        ...        ...\n98          M9N  43.706876 -79.518188\n99          M9P  43.696319 -79.532242\n100         M9R  43.688905 -79.554724\n101         M9V  43.739416 -79.588437\n102         M9W  43.706748 -79.594054\n\n[103 rows x 3 columns]",
                        "text/html": "<div>\n<style scoped>\n    .dataframe tbody tr th:only-of-type {\n        vertical-align: middle;\n    }\n\n    .dataframe tbody tr th {\n        vertical-align: top;\n    }\n\n    .dataframe thead th {\n        text-align: right;\n    }\n</style>\n<table border=\"1\" class=\"dataframe\">\n  <thead>\n    <tr style=\"text-align: right;\">\n      <th></th>\n      <th>Postal Code</th>\n      <th>Latitude</th>\n      <th>Longitude</th>\n    </tr>\n  </thead>\n  <tbody>\n    <tr>\n      <th>0</th>\n      <td>M1B</td>\n      <td>43.806686</td>\n      <td>-79.194353</td>\n    </tr>\n    <tr>\n      <th>1</th>\n      <td>M1C</td>\n      <td>43.784535</td>\n      <td>-79.160497</td>\n    </tr>\n    <tr>\n      <th>2</th>\n      <td>M1E</td>\n      <td>43.763573</td>\n      <td>-79.188711</td>\n    </tr>\n    <tr>\n      <th>3</th>\n      <td>M1G</td>\n      <td>43.770992</td>\n      <td>-79.216917</td>\n    </tr>\n    <tr>\n      <th>4</th>\n      <td>M1H</td>\n      <td>43.773136</td>\n      <td>-79.239476</td>\n    </tr>\n    <tr>\n      <th>...</th>\n      <td>...</td>\n      <td>...</td>\n      <td>...</td>\n    </tr>\n    <tr>\n      <th>98</th>\n      <td>M9N</td>\n      <td>43.706876</td>\n      <td>-79.518188</td>\n    </tr>\n    <tr>\n      <th>99</th>\n      <td>M9P</td>\n      <td>43.696319</td>\n      <td>-79.532242</td>\n    </tr>\n    <tr>\n      <th>100</th>\n      <td>M9R</td>\n      <td>43.688905</td>\n      <td>-79.554724</td>\n    </tr>\n    <tr>\n      <th>101</th>\n      <td>M9V</td>\n      <td>43.739416</td>\n      <td>-79.588437</td>\n    </tr>\n    <tr>\n      <th>102</th>\n      <td>M9W</td>\n      <td>43.706748</td>\n      <td>-79.594054</td>\n    </tr>\n  </tbody>\n</table>\n<p>103 rows \u00d7 3 columns</p>\n</div>"
                    },
                    "metadata": {}
                }
            ]
        },
        {
            "metadata": {},
            "cell_type": "code",
            "source": "#Add Latitude and Longitude columns in the df_toronto dataframe\ntoronto_postalcodes_coordinates_df=pd.merge(df_toronto, coordinate_df, how='inner', on=['Postal Code'])\n\n",
            "execution_count": 31,
            "outputs": []
        },
        {
            "metadata": {},
            "cell_type": "code",
            "source": "#Print the consolidated dataframe\ntoronto_postalcodes_coordinates_df",
            "execution_count": 32,
            "outputs": [
                {
                    "output_type": "execute_result",
                    "execution_count": 32,
                    "data": {
                        "text/plain": "    Postal Code           Borough  \\\n0           M3A        North York   \n1           M4A        North York   \n2           M5A  Downtown Toronto   \n3           M6A        North York   \n4           M7A  Downtown Toronto   \n..          ...               ...   \n98          M8X         Etobicoke   \n99          M4Y  Downtown Toronto   \n100         M7Y      East Toronto   \n101         M8Y         Etobicoke   \n102         M8Z         Etobicoke   \n\n                                         Neighbourhood   Latitude  Longitude  \n0                                            Parkwoods  43.753259 -79.329656  \n1                                     Victoria Village  43.725882 -79.315572  \n2                            Regent Park, Harbourfront  43.654260 -79.360636  \n3                     Lawrence Manor, Lawrence Heights  43.718518 -79.464763  \n4          Queen's Park, Ontario Provincial Government  43.662301 -79.389494  \n..                                                 ...        ...        ...  \n98       The Kingsway, Montgomery Road, Old Mill North  43.653654 -79.506944  \n99                                Church and Wellesley  43.665860 -79.383160  \n100  Business reply mail Processing Centre, South C...  43.662744 -79.321558  \n101  Old Mill South, King's Mill Park, Sunnylea, Hu...  43.636258 -79.498509  \n102  Mimico NW, The Queensway West, South of Bloor,...  43.628841 -79.520999  \n\n[103 rows x 5 columns]",
                        "text/html": "<div>\n<style scoped>\n    .dataframe tbody tr th:only-of-type {\n        vertical-align: middle;\n    }\n\n    .dataframe tbody tr th {\n        vertical-align: top;\n    }\n\n    .dataframe thead th {\n        text-align: right;\n    }\n</style>\n<table border=\"1\" class=\"dataframe\">\n  <thead>\n    <tr style=\"text-align: right;\">\n      <th></th>\n      <th>Postal Code</th>\n      <th>Borough</th>\n      <th>Neighbourhood</th>\n      <th>Latitude</th>\n      <th>Longitude</th>\n    </tr>\n  </thead>\n  <tbody>\n    <tr>\n      <th>0</th>\n      <td>M3A</td>\n      <td>North York</td>\n      <td>Parkwoods</td>\n      <td>43.753259</td>\n      <td>-79.329656</td>\n    </tr>\n    <tr>\n      <th>1</th>\n      <td>M4A</td>\n      <td>North York</td>\n      <td>Victoria Village</td>\n      <td>43.725882</td>\n      <td>-79.315572</td>\n    </tr>\n    <tr>\n      <th>2</th>\n      <td>M5A</td>\n      <td>Downtown Toronto</td>\n      <td>Regent Park, Harbourfront</td>\n      <td>43.654260</td>\n      <td>-79.360636</td>\n    </tr>\n    <tr>\n      <th>3</th>\n      <td>M6A</td>\n      <td>North York</td>\n      <td>Lawrence Manor, Lawrence Heights</td>\n      <td>43.718518</td>\n      <td>-79.464763</td>\n    </tr>\n    <tr>\n      <th>4</th>\n      <td>M7A</td>\n      <td>Downtown Toronto</td>\n      <td>Queen's Park, Ontario Provincial Government</td>\n      <td>43.662301</td>\n      <td>-79.389494</td>\n    </tr>\n    <tr>\n      <th>...</th>\n      <td>...</td>\n      <td>...</td>\n      <td>...</td>\n      <td>...</td>\n      <td>...</td>\n    </tr>\n    <tr>\n      <th>98</th>\n      <td>M8X</td>\n      <td>Etobicoke</td>\n      <td>The Kingsway, Montgomery Road, Old Mill North</td>\n      <td>43.653654</td>\n      <td>-79.506944</td>\n    </tr>\n    <tr>\n      <th>99</th>\n      <td>M4Y</td>\n      <td>Downtown Toronto</td>\n      <td>Church and Wellesley</td>\n      <td>43.665860</td>\n      <td>-79.383160</td>\n    </tr>\n    <tr>\n      <th>100</th>\n      <td>M7Y</td>\n      <td>East Toronto</td>\n      <td>Business reply mail Processing Centre, South C...</td>\n      <td>43.662744</td>\n      <td>-79.321558</td>\n    </tr>\n    <tr>\n      <th>101</th>\n      <td>M8Y</td>\n      <td>Etobicoke</td>\n      <td>Old Mill South, King's Mill Park, Sunnylea, Hu...</td>\n      <td>43.636258</td>\n      <td>-79.498509</td>\n    </tr>\n    <tr>\n      <th>102</th>\n      <td>M8Z</td>\n      <td>Etobicoke</td>\n      <td>Mimico NW, The Queensway West, South of Bloor,...</td>\n      <td>43.628841</td>\n      <td>-79.520999</td>\n    </tr>\n  </tbody>\n</table>\n<p>103 rows \u00d7 5 columns</p>\n</div>"
                    },
                    "metadata": {}
                }
            ]
        },
        {
            "metadata": {},
            "cell_type": "code",
            "source": "",
            "execution_count": null,
            "outputs": []
        }
    ],
    "metadata": {
        "kernelspec": {
            "name": "python3",
            "display_name": "Python 3.7",
            "language": "python"
        },
        "language_info": {
            "name": "python",
            "version": "3.7.9",
            "mimetype": "text/x-python",
            "codemirror_mode": {
                "name": "ipython",
                "version": 3
            },
            "pygments_lexer": "ipython3",
            "nbconvert_exporter": "python",
            "file_extension": ".py"
        }
    },
    "nbformat": 4,
    "nbformat_minor": 1
}